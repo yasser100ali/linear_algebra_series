{
 "cells": [
  {
   "cell_type": "code",
   "execution_count": 16,
   "id": "0b6f7ef1-a2e4-47b6-a281-b1308e7fc1f2",
   "metadata": {},
   "outputs": [],
   "source": [
    "# Calculating the nuclear norm of a matrix, which is defined as the sum of its singular values. \n",
    "\n",
    "import numpy as np\n",
    "\n",
    "def nuclearNorm_maxSigma(M):\n",
    "    M = np.asarray(M)\n",
    "    U, sigma, V_T = np.linalg.svd(M) \n",
    "    nuclear_norm = np.sum(sigma)\n",
    "    max_sigma = np.max(sigma)\n",
    "    return nuclear_norm, max_sigma"
   ]
  },
  {
   "cell_type": "code",
   "execution_count": 26,
   "id": "652dd24c-e13c-40b0-b183-8e9a38552a58",
   "metadata": {},
   "outputs": [
    {
     "data": {
      "text/plain": [
       "array([[0.93956107, 0.27223273, 0.45441775, 0.33997207, 0.22616553],\n",
       "       [0.31212993, 0.04235931, 0.62582829, 0.53993621, 0.35092233],\n",
       "       [0.39498955, 0.78003929, 0.86556034, 0.47971912, 0.45456881],\n",
       "       [0.47215251, 0.16093704, 0.99518158, 0.10777401, 0.16835373],\n",
       "       [0.17342963, 0.36814881, 0.21797411, 0.89011118, 0.61875372],\n",
       "       [0.03498088, 0.28490204, 0.49105382, 0.30006179, 0.69534839],\n",
       "       [0.47797048, 0.40906134, 0.55199603, 0.27474041, 0.48970877],\n",
       "       [0.58302258, 0.89146168, 0.29263263, 0.00976037, 0.65300052],\n",
       "       [0.34491626, 0.57481656, 0.66347196, 0.92331599, 0.61651902],\n",
       "       [0.02759353, 0.10128159, 0.17383095, 0.72913932, 0.42502638]])"
      ]
     },
     "execution_count": 26,
     "metadata": {},
     "output_type": "execute_result"
    }
   ],
   "source": [
    "m = np.random.rand(10, 5)\n",
    "m"
   ]
  },
  {
   "cell_type": "code",
   "execution_count": 27,
   "id": "83e071ba-8c0a-4dcd-927a-b43e93d5caa4",
   "metadata": {},
   "outputs": [
    {
     "name": "stdout",
     "output_type": "stream",
     "text": [
      "Nuclear Norm: 6.360085804568659\n",
      "Ratio of largest singular value to nuclear norm: 0.5104345164961862\n"
     ]
    }
   ],
   "source": [
    "nuclear_norm, max_sigma = nuclearNorm_maxSigma(m)\n",
    "\n",
    "print(f'Nuclear Norm: {nuclear_norm}')\n",
    "print(f'Ratio of largest singular value to nuclear norm: {max_sigma / nuclear_norm}')"
   ]
  },
  {
   "cell_type": "code",
   "execution_count": null,
   "id": "af2a7ef6-e525-47f2-8f45-9dfedcc09fca",
   "metadata": {},
   "outputs": [],
   "source": []
  }
 ],
 "metadata": {
  "kernelspec": {
   "display_name": "Python 3 (ipykernel)",
   "language": "python",
   "name": "python3"
  },
  "language_info": {
   "codemirror_mode": {
    "name": "ipython",
    "version": 3
   },
   "file_extension": ".py",
   "mimetype": "text/x-python",
   "name": "python",
   "nbconvert_exporter": "python",
   "pygments_lexer": "ipython3",
   "version": "3.11.8"
  }
 },
 "nbformat": 4,
 "nbformat_minor": 5
}
