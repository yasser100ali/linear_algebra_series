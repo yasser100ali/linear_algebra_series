{
 "cells": [
  {
   "cell_type": "code",
   "execution_count": 16,
   "id": "0b6f7ef1-a2e4-47b6-a281-b1308e7fc1f2",
   "metadata": {},
   "outputs": [],
   "source": [
    "# Calculating the nuclear norm of a matrix, which is defined as the sum of its singular values. \n",
    "\n",
    "import numpy as np\n",
    "\n",
    "def nuclearNorm_maxSigma(M):\n",
    "    M = np.asarray(M)\n",
    "    U, sigma, V_T = np.linalg.svd(M) \n",
    "    nuclear_norm = np.sum(sigma)\n",
    "    max_sigma = np.max(sigma)\n",
    "    return nuclear_norm, max_sigma"
   ]
  },
  {
   "cell_type": "code",
   "execution_count": 24,
   "id": "652dd24c-e13c-40b0-b183-8e9a38552a58",
   "metadata": {},
   "outputs": [
    {
     "data": {
      "text/plain": [
       "array([[0.20827922, 0.69014976, 0.65008778, 0.56001032, 0.269508  ,\n",
       "        0.98403507, 0.02724928, 0.16091105, 0.29607789, 0.86320599,\n",
       "        0.30155562, 0.46387222],\n",
       "       [0.55015694, 0.08593776, 0.82593881, 0.14754171, 0.73708115,\n",
       "        0.00937938, 0.47864412, 0.61457926, 0.1911918 , 0.50192385,\n",
       "        0.45548654, 0.9369844 ],\n",
       "       [0.91764839, 0.2219338 , 0.44241728, 0.18915182, 0.9268522 ,\n",
       "        0.22958462, 0.42255834, 0.66342353, 0.61472903, 0.58330532,\n",
       "        0.31075322, 0.12306166],\n",
       "       [0.41553773, 0.81437723, 0.1915851 , 0.03092826, 0.21381782,\n",
       "        0.58810148, 0.78237142, 0.94377322, 0.22891495, 0.75326726,\n",
       "        0.59769242, 0.54563088],\n",
       "       [0.5353437 , 0.00883573, 0.22971135, 0.02327874, 0.77947904,\n",
       "        0.06155182, 0.38236407, 0.40090848, 0.34349701, 0.60054497,\n",
       "        0.15895649, 0.78370322],\n",
       "       [0.40468926, 0.02000927, 0.65398261, 0.08990496, 0.9286124 ,\n",
       "        0.09354492, 0.48832587, 0.02670744, 0.36787261, 0.94143966,\n",
       "        0.13779608, 0.21180609],\n",
       "       [0.89623521, 0.78413498, 0.48600487, 0.71121998, 0.93937975,\n",
       "        0.14992758, 0.2501278 , 0.78333401, 0.03515296, 0.4890061 ,\n",
       "        0.21504727, 0.62767633],\n",
       "       [0.63372994, 0.88091166, 0.88931168, 0.7703616 , 0.73554279,\n",
       "        0.35752125, 0.5192917 , 0.33177577, 0.45549785, 0.5327563 ,\n",
       "        0.35653654, 0.38823839],\n",
       "       [0.50237732, 0.54804209, 0.20018205, 0.59406622, 0.64932089,\n",
       "        0.03368014, 0.021161  , 0.38165922, 0.52513853, 0.86068458,\n",
       "        0.03016935, 0.01989012],\n",
       "       [0.5507617 , 0.86756821, 0.73269178, 0.26362535, 0.63188473,\n",
       "        0.34379536, 0.69626525, 0.88387445, 0.79659207, 0.19511129,\n",
       "        0.44466195, 0.91430493]])"
      ]
     },
     "execution_count": 24,
     "metadata": {},
     "output_type": "execute_result"
    }
   ],
   "source": [
    "m = np.random.rand(10, 12)\n",
    "m"
   ]
  },
  {
   "cell_type": "code",
   "execution_count": 25,
   "id": "83e071ba-8c0a-4dcd-927a-b43e93d5caa4",
   "metadata": {},
   "outputs": [
    {
     "name": "stdout",
     "output_type": "stream",
     "text": [
      "Nuclear Norm: 12.461204663848635\n",
      "Ratio of largest singular value to nuclear norm: 0.4313820425283783\n"
     ]
    }
   ],
   "source": [
    "nuclear_norm, max_sigma = nuclearNorm_maxSigma(m)\n",
    "\n",
    "print(f'Nuclear Norm: {nuclear_norm}')\n",
    "print(f'Ratio of largest singular value to nuclear norm: {max_sigma / nuclear_norm}')"
   ]
  },
  {
   "cell_type": "code",
   "execution_count": null,
   "id": "af2a7ef6-e525-47f2-8f45-9dfedcc09fca",
   "metadata": {},
   "outputs": [],
   "source": []
  }
 ],
 "metadata": {
  "kernelspec": {
   "display_name": "Python 3 (ipykernel)",
   "language": "python",
   "name": "python3"
  },
  "language_info": {
   "codemirror_mode": {
    "name": "ipython",
    "version": 3
   },
   "file_extension": ".py",
   "mimetype": "text/x-python",
   "name": "python",
   "nbconvert_exporter": "python",
   "pygments_lexer": "ipython3",
   "version": "3.11.8"
  }
 },
 "nbformat": 4,
 "nbformat_minor": 5
}
