{
 "cells": [
  {
   "cell_type": "code",
   "execution_count": 16,
   "id": "0b6f7ef1-a2e4-47b6-a281-b1308e7fc1f2",
   "metadata": {},
   "outputs": [],
   "source": [
    "# Calculating the nuclear norm of a matrix, which is defined as the sum of its singular values. \n",
    "\n",
    "import numpy as np\n",
    "\n",
    "def nuclearNorm_maxSigma(M):\n",
    "    M = np.asarray(M)\n",
    "    U, sigma, V_T = np.linalg.svd(M) \n",
    "    nuclear_norm = np.sum(sigma)\n",
    "    max_sigma = np.max(sigma)\n",
    "    return nuclear_norm, max_sigma"
   ]
  },
  {
   "cell_type": "code",
   "execution_count": 17,
   "id": "652dd24c-e13c-40b0-b183-8e9a38552a58",
   "metadata": {},
   "outputs": [
    {
     "name": "stdout",
     "output_type": "stream",
     "text": [
      "Nuclear Norm: 75.2408559457566\n",
      "Ratio of largest singular value to nuclear norm: 0.8707638975247047\n"
     ]
    }
   ],
   "source": [
    "m = np.array([\n",
    "    [1, 2, 3],\n",
    "    [3, 5, 5],\n",
    "    [1, 4, 65],\n",
    "    [1, 6, 3]\n",
    "])\n",
    "nuclear_norm, max_sigma = nuclearNorm_maxSigma(m)\n",
    "\n",
    "print(f'Nuclear Norm: {nuclear_norm}')\n",
    "print(f'Ratio of largest singular value to nuclear norm: {max_sigma / nuclear_norm}')"
   ]
  },
  {
   "cell_type": "code",
   "execution_count": null,
   "id": "8c7c54bf-0e82-4173-9732-08c038a91bc7",
   "metadata": {},
   "outputs": [],
   "source": []
  }
 ],
 "metadata": {
  "kernelspec": {
   "display_name": "Python 3 (ipykernel)",
   "language": "python",
   "name": "python3"
  },
  "language_info": {
   "codemirror_mode": {
    "name": "ipython",
    "version": 3
   },
   "file_extension": ".py",
   "mimetype": "text/x-python",
   "name": "python",
   "nbconvert_exporter": "python",
   "pygments_lexer": "ipython3",
   "version": "3.11.8"
  }
 },
 "nbformat": 4,
 "nbformat_minor": 5
}
